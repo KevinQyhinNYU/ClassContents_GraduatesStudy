{
  "nbformat": 4,
  "nbformat_minor": 0,
  "metadata": {
    "colab": {
      "provenance": [],
      "collapsed_sections": []
    },
    "kernelspec": {
      "name": "python3",
      "display_name": "Python 3"
    }
  },
  "cells": [
    {
      "cell_type": "markdown",
      "metadata": {
        "id": "CKRRjmhbFcx7"
      },
      "source": [
        "In this problem we will train a neural network from scratch using numpy. In practice, you will never need to do this (you'd just use TensorFlow or PyTorch). But hopefully this will give us a sense of what's happening under the hood. \n",
        "\n",
        "For training/testing, we will use the standard MNIST benchmark consisting of images of handwritten images. \n",
        "\n"
      ]
    },
    {
      "cell_type": "markdown",
      "source": [
        "In the second demo, we worked with autodiff. Autodiff enables us to implicitly store how to calculate the gradient when we call backward. We implemented some basic operations (addition, multiplication, power, and ReLU). In this homework problem, you will implement backprop for more complicated operations directly. Instead of using autodiff, you will manually compute the gradient of the loss function for each parameter."
      ],
      "metadata": {
        "id": "k0Zpyb4xQNu2"
      }
    },
    {
      "cell_type": "code",
      "metadata": {
        "id": "kjvPSnDA4J_w",
        "colab": {
          "base_uri": "https://localhost:8080/",
          "height": 265
        },
        "outputId": "2dd581f0-5494-47d3-d936-84779ca15643"
      },
      "source": [
        "import tensorflow as tf\n",
        "import matplotlib.pyplot as plt\n",
        "\n",
        "(x_train, y_train), (x_test, y_test) = tf.keras.datasets.mnist.load_data(path=\"mnist.npz\")\n",
        "\n",
        "plt.imshow(x_train[12],cmap='gray');"
      ],
      "execution_count": null,
      "outputs": [
        {
          "output_type": "display_data",
          "data": {
            "text/plain": [
              "<Figure size 432x288 with 1 Axes>"
            ],
            "image/png": "[encoded data removed]"
          },
          "metadata": {
            "needs_background": "light"
          }
        }
      ]
    },
    {
      "cell_type": "markdown",
      "metadata": {
        "id": "Klx9qPmxF9jI"
      },
      "source": [
        "Loading MNIST is the only place where we will use TensorFlow; the rest of the code will be pure numpy.\n",
        "\n",
        "Let us now set up a few helper functions. We will use sigmoid activations for neurons, the softmax activation for the last layer, and the cross entropy loss."
      ]
    },
    {
      "cell_type": "code",
      "metadata": {
        "id": "sdyvaUKoF7ux"
      },
      "source": [
        "import numpy as np\n",
        "\n",
        "def sigmoid(x):\n",
        "  # Numerically stable sigmoid function based on\n",
        "  # http://timvieira.github.io/blog/post/2014/02/11/exp-normalize-trick/\n",
        "  \n",
        "  x = np.clip(x, -500, 500) # We get an overflow warning without this\n",
        "  \n",
        "  return np.where(\n",
        "    x >= 0,\n",
        "    1 / (1 + np.exp(-x)),\n",
        "    np.exp(x) / (1 + np.exp(x))\n",
        "  )\n",
        "\n",
        "def dsigmoid(x): # Derivative of sigmoid\n",
        "  return sigmoid(x) * (1 - sigmoid(x))\n",
        "\n",
        "def softmax(x):\n",
        "  # Numerically stable softmax based on (same source as sigmoid)\n",
        "  # http://timvieira.github.io/blog/post/2014/02/11/exp-normalize-trick/\n",
        "  b = x.max()\n",
        "  y = np.exp(x - b)\n",
        "  return y / y.sum()\n",
        "\n",
        "def cross_entropy_loss(y, yHat):\n",
        "  return -np.sum(y * np.log(yHat))\n",
        "\n",
        "def integer_to_one_hot(x, max):\n",
        "  # x: integer to convert to one hot encoding\n",
        "  # max: the size of the one hot encoded array\n",
        "  result = np.zeros(max)\n",
        "  result[x] = 1\n",
        "  return result"
      ],
      "execution_count": 67,
      "outputs": []
    },
    {
      "cell_type": "markdown",
      "metadata": {
        "id": "_xIZEupTHyNM"
      },
      "source": [
        "OK, we are now ready to build and train our model. The input is an image of size 28x28, and the output is one of 10 classes. So, first: \n",
        "\n",
        "Q1. Initialize a 2-hidden layer neural network with 32 neurons in each hidden layer, i.e., your layer sizes should be: \n",
        "\n",
        "784 -> 32 -> 32 -> 10\n",
        "\n",
        "If the layer is $n_{in} \\times n_{out}$ your layer weights should be initialized by sampling from a normal distribution with mean zero and variance 1/$\\max(n_{in},n_{out})$."
      ]
    },
    {
      "cell_type": "code",
      "metadata": {
        "id": "zBeGvbu6FaM_"
      },
      "source": [
        "import math\n",
        "\n",
        "# Initialize weights of each layer with a normal distribution of mean 0 and\n",
        "# standard deviation 1/sqrt(n), where n is the number of inputs.\n",
        "# This means the weighted input will be a random variable itself with mean\n",
        "# 0 and standard deviation close to 1 (if biases are initialized as 0, standard\n",
        "# deviation will be exactly 1)\n",
        "\n",
        "from numpy.random import default_rng\n",
        "\n",
        "rng = default_rng(44017)\n",
        "\n",
        "# Q1. Fill initialization code here.\n",
        "# ...\n",
        "\n",
        "# Generate initial weight and biases parameters\n",
        "\n",
        "weights = [rng.normal(0, 1 / (784), (32, 784)), rng.normal(0, 1 / (32), (32, 32)), rng.normal(0, 1 / (32), (10, 32))] \n",
        "biases = [np.zeros(32), np.zeros(32), np.zeros(10)]\n"
      ],
      "execution_count": 90,
      "outputs": []
    },
    {
      "cell_type": "markdown",
      "metadata": {
        "id": "IafUGD_VGeLh"
      },
      "source": [
        "Next, we will set up the forward pass. We will implement this by looping over the layers and successively computing the activations of each layer. \n",
        "\n",
        "Q2. Implement the forward pass for a single sample, and for the entire dataset.\n",
        "\n",
        "\n",
        "Right now, your network weights should be random, so doing a forward pass with the data should not give you any meaningful information. Therefore, in the last line, when you calculate test accuracy, it should be somewhere around 1/10 (i.e., a random guess)."
      ]
    },
    {
      "cell_type": "code",
      "metadata": {
        "id": "cd6jGroQGdOF",
        "colab": {
          "base_uri": "https://localhost:8080/"
        },
        "outputId": "66b2871b-bf64-413c-d569-293d9ee6d19c"
      },
      "source": [
        "def feed_forward_sample(sample, ground_truth_label):\n",
        "  \"\"\" Forward pass through the neural network.\n",
        "    Inputs:\n",
        "      sample: 1D numpy array. The input sample (an MNIST digit).\n",
        "      label: An integer from 0 to 9.\n",
        "\n",
        "    Returns: the cross entropy loss, most likely class\n",
        "  \"\"\"\n",
        "  # Q2. Fill code here.\n",
        "  \n",
        "  # First we need to flatten the input image to a 1-D vector\n",
        "  layer_output = sample.flatten() # The flattened image size is (1, 28*28) = (1, 784)\n",
        "\n",
        "  # Then we pass the input forward to each layer\n",
        "  for index in range(3):\n",
        "    neurons_before_activation = np.matmul(weights[index], layer_output) + biases[index] # forward to next layer\n",
        "    if index == 2:\n",
        "      layer_output = softmax(neurons_before_activation) # If we reach the output layer, we use softmax to compute the probabilty\n",
        "    else:\n",
        "      layer_output = sigmoid(neurons_before_activation)# Otherwise, we use sigmoid as activation function\n",
        "\n",
        "  # Calculate ground truth distribution\n",
        "  ground_truth_label_distribution = integer_to_one_hot(ground_truth_label, 10)\n",
        "  # Calculate the crossentropy loss\n",
        "  loss = cross_entropy_loss(ground_truth_label_distribution, layer_output)\n",
        "\n",
        "  # Get the predicted label\n",
        "  predicted_label = np.argmax(layer_output)\n",
        "  \n",
        "  # Set the predicted output distribution\n",
        "  one_hot_guess = np.zeros_like(layer_output)\n",
        "  one_hot_guess[predicted_label] = 1\n",
        "\n",
        "  return loss, one_hot_guess\n",
        "\n",
        "\n",
        "def feed_forward_dataset(x, y):\n",
        "  num_of_dataset = x.shape[0]\n",
        "  losses = np.empty(num_of_dataset)\n",
        "  one_hot_guesses = np.empty((num_of_dataset, 10))\n",
        "\n",
        "\n",
        "  # ...\n",
        "  # Q2. Fill code here to calculate losses, one_hot_guesses\n",
        "  # ...\n",
        "  for i in range(num_of_dataset):\n",
        "    losses[i], one_hot_guesses[i] = feed_forward_sample(x[i], y[i])\n",
        "\n",
        "  y_one_hot = np.zeros((y.size, 10))\n",
        "  y_one_hot[np.arange(y.size), y] = 1\n",
        "\n",
        "  correct_guesses = np.sum(y_one_hot * one_hot_guesses)\n",
        "  correct_guess_percent = format((correct_guesses / y.shape[0]) * 100, \".2f\")  \n",
        "\n",
        "  print(\"\\nAverage loss:\", np.round(np.average(losses), decimals=2))\n",
        "  print(\"Accuracy (# of correct guesses):\", correct_guesses, \"/\", y.shape[0], \"(\", correct_guess_percent, \"%)\")\n",
        "\n",
        "def feed_forward_training_data():\n",
        "  print(\"Feeding forward all training data...\")\n",
        "  feed_forward_dataset(x_train, y_train)\n",
        "  print(\"\")\n",
        "\n",
        "def feed_forward_test_data():\n",
        "  print(\"Feeding forward all test data...\")\n",
        "  feed_forward_dataset(x_test, y_test)\n",
        "  print(\"\")\n",
        "\n",
        "feed_forward_test_data()"
      ],
      "execution_count": 69,
      "outputs": [
        {
          "output_type": "stream",
          "name": "stdout",
          "text": [
            "Feeding forward all test data...\n",
            "\n",
            "Average loss: 2.31\n",
            "Accuracy (# of correct guesses): 1009.0 / 10000 ( 10.09 %)\n",
            "\n"
          ]
        }
      ]
    },
    {
      "cell_type": "markdown",
      "metadata": {
        "id": "sSrlc2VLOi8L"
      },
      "source": [
        "OK, now we will implement the backward pass using backpropagation. We will keep it simple and just do training sample-by-sample (no minibatching, no randomness).\n",
        "\n",
        "Q3: Compute the gradient of all the weights and biases by backpropagating derivatives all the way from the output to the first layer. \n",
        "\n",
        "\n",
        "\n"
      ]
    },
    {
      "cell_type": "code",
      "metadata": {
        "id": "BLLEsVdcOgzi"
      },
      "source": [
        "def train_one_sample(sample, ground_truth_label, learning_rate=0.003):\n",
        "  layer_output = sample.flatten()\n",
        "\n",
        "  # We will store each layer's activations to calculate gradient\n",
        "  activations = []\n",
        "\n",
        "  # Forward pass\n",
        "\n",
        "  # Q3. This should be the same as what you did in feed_forward_sample above.\n",
        "  for index in range(3):\n",
        "    neurons_before_activation = np.matmul(weights[index], layer_output) + biases[index] # forward to next layer\n",
        "    if index == 2:\n",
        "      layer_output = softmax(neurons_before_activation) # If we reach the output layer, we use softmax to compute the probabilty\n",
        "    else:\n",
        "      layer_output = sigmoid(neurons_before_activation) # Otherwise, we use sigmoid as activation function\n",
        "\n",
        "    # After each layer, we need to store the activations\n",
        "    activations.append(layer_output)\n",
        "  \n",
        "  # Calculate ground truth distribution and the loss\n",
        "  ground_truth_label_distribution = integer_to_one_hot(ground_truth_label, 10)\n",
        "  loss = cross_entropy_loss(ground_truth_label_distribution, layer_output)\n",
        "\n",
        "  # Get the predicted label\n",
        "  predicted_label = np.argmax(layer_output)\n",
        "  # Set the predicted output distribution\n",
        "  one_hot_guess = np.zeros_like(layer_output)\n",
        "  one_hot_guess[predicted_label] = 1\n",
        "\n",
        "  # Check if we got the correct prediction\n",
        "  corrected_prediction = (predicted_label == ground_truth_label)\n",
        "\n",
        "\n",
        "  # Backward pass\n",
        "\n",
        "  # Q3. Implement backpropagation by backward-stepping gradients through each layer.\n",
        "  # You may need to be careful to make sure your Jacobian matrices are the right shape.\n",
        "  # At the end, you should get two vectors: weight_gradients and bias_gradients.\n",
        "  \n",
        "  # Declare variables\n",
        "  num_of_layers = 3\n",
        "  weight_gradients = [None] * num_of_layers\n",
        "  bias_gradients = [None] * num_of_layers\n",
        "  activation_gradients = [None] * (num_of_layers - 1)\n",
        "\n",
        "  for i in range(len(weights) - 1, -1, -1): # Traverse layers in reverse\n",
        "    if i == num_of_layers - 1:\n",
        "      # If it is the last layer\n",
        "      output_y = ground_truth_label_distribution[:, np.newaxis]\n",
        "      current_activation = activations[i][:, np.newaxis]\n",
        "      previous_activation = activations[i - 1][:, np.newaxis]\n",
        "\n",
        "      weight_gradients[i] = np.matmul((current_activation - output_y), previous_activation.T)\n",
        "      bias_gradients[i] = current_activation - output_y\n",
        "\n",
        "    else:\n",
        "      next_layer_weights = weights[i + 1]\n",
        "      next_layer_activation = activations[i + 1][:, np.newaxis]\n",
        "      output_y = ground_truth_label_distribution[:, np.newaxis]\n",
        "      current_activation = activations[i][:, np.newaxis]\n",
        "\n",
        "      # Calculate the activation gradients\n",
        "      if i == num_of_layers - 2:\n",
        "        activation_gradient = np.matmul(next_layer_weights.T, (next_layer_activation - output_y))\n",
        "        activation_gradients[i] = activation_gradient\n",
        "      else:\n",
        "        activation_gradient_next = activation_gradients[i+1]\n",
        "        activation_gradient = np.matmul(next_layer_weights.T, (dsigmoid(next_layer_activation) * activation_gradient_next))\n",
        "        activation_gradients[i] = activation_gradient\n",
        "      \n",
        "      # Get the previous activation \n",
        "      if i > 0:\n",
        "        previous_activation = activations[i - 1][:, np.newaxis]\n",
        "      else:\n",
        "        previous_activation = sample.flatten()[:, np.newaxis]\n",
        "\n",
        "\n",
        "      # Calculate the gradients with respect to weights and biases \n",
        "      x = dsigmoid(current_activation) * activation_gradient\n",
        "      weight_gradients[i] = np.matmul(x, previous_activation.T)\n",
        "      bias_gradients[i] = x\n",
        "\n",
        "    weights[i] -= weight_gradients[i] * learning_rate\n",
        "    biases[i] -= bias_gradients[i].flatten() * learning_rate\n"
      ],
      "execution_count": 97,
      "outputs": []
    },
    {
      "cell_type": "markdown",
      "metadata": {
        "id": "6AXY27pOB9cW"
      },
      "source": [
        "Finally, train for 3 epochs by looping over the entire training dataset 3 times.\n",
        "\n",
        "Q4. Train your model for 3 epochs."
      ]
    },
    {
      "cell_type": "code",
      "metadata": {
        "id": "8Ygk05FcB-rL",
        "colab": {
          "base_uri": "https://localhost:8080/"
        },
        "outputId": "fbac02ec-9643-4d21-a657-62616178bb36"
      },
      "source": [
        "def train_one_epoch(learning_rate=0.003):\n",
        "  print(\"Training for one epoch over the training dataset...\")\n",
        "  \n",
        "  # Q4. Write the training loop over the epoch here.\n",
        "  # ...\n",
        "  num_of_training_set = x_train.shape[0]\n",
        "  for i in range(num_of_training_set):\n",
        "    if i == 0 or ((i + 1) % 10000 == 0):\n",
        "      completion_percent = format(((i + 1) / x_train.shape[0]) * 100, \".2f\")\n",
        "      print(i + 1, \"/\", x_train.shape[0], \"(\", completion_percent, \"%)\")\n",
        "    train_one_sample(x_train[i], y_train[i], learning_rate)\n",
        "  print(\"Finished training.\\n\")\n",
        "\n",
        "\n",
        "feed_forward_test_data()\n",
        "\n",
        "def test_and_train():\n",
        "  train_one_epoch()\n",
        "  feed_forward_test_data()\n",
        "\n",
        "for i in range(3): \n",
        "  test_and_train()"
      ],
      "execution_count": 98,
      "outputs": [
        {
          "output_type": "stream",
          "name": "stdout",
          "text": [
            "Feeding forward all test data...\n",
            "\n",
            "Average loss: 2.31\n",
            "Accuracy (# of correct guesses): 1014.0 / 10000 ( 10.14 %)\n",
            "\n",
            "Training for one epoch over the training dataset...\n",
            "1 / 60000 ( 0.00 %)\n",
            "10000 / 60000 ( 16.67 %)\n",
            "20000 / 60000 ( 33.33 %)\n",
            "30000 / 60000 ( 50.00 %)\n",
            "40000 / 60000 ( 66.67 %)\n",
            "50000 / 60000 ( 83.33 %)\n",
            "60000 / 60000 ( 100.00 %)\n",
            "Finished training.\n",
            "\n",
            "Feeding forward all test data...\n",
            "\n",
            "Average loss: 0.99\n",
            "Accuracy (# of correct guesses): 6978.0 / 10000 ( 69.78 %)\n",
            "\n",
            "Training for one epoch over the training dataset...\n",
            "1 / 60000 ( 0.00 %)\n",
            "10000 / 60000 ( 16.67 %)\n",
            "20000 / 60000 ( 33.33 %)\n",
            "30000 / 60000 ( 50.00 %)\n",
            "40000 / 60000 ( 66.67 %)\n",
            "50000 / 60000 ( 83.33 %)\n",
            "60000 / 60000 ( 100.00 %)\n",
            "Finished training.\n",
            "\n",
            "Feeding forward all test data...\n",
            "\n",
            "Average loss: 0.8\n",
            "Accuracy (# of correct guesses): 7515.0 / 10000 ( 75.15 %)\n",
            "\n",
            "Training for one epoch over the training dataset...\n",
            "1 / 60000 ( 0.00 %)\n",
            "10000 / 60000 ( 16.67 %)\n",
            "20000 / 60000 ( 33.33 %)\n",
            "30000 / 60000 ( 50.00 %)\n",
            "40000 / 60000 ( 66.67 %)\n",
            "50000 / 60000 ( 83.33 %)\n",
            "60000 / 60000 ( 100.00 %)\n",
            "Finished training.\n",
            "\n",
            "Feeding forward all test data...\n",
            "\n",
            "Average loss: 0.72\n",
            "Accuracy (# of correct guesses): 7623.0 / 10000 ( 76.23 %)\n",
            "\n"
          ]
        }
      ]
    },
    {
      "cell_type": "markdown",
      "metadata": {
        "id": "IKzEn_lyCAIe"
      },
      "source": [
        "\n",
        "That's it! \n",
        "\n",
        "Your code is probably very time- and memory-inefficient; that's ok. There is a ton of optimization under the hood in professional deep learning frameworks which we won't get into.\n",
        "\n",
        "If everything is working well, you should be able to raise the accuracy from ~10% to ~70% accuracy after 3 epochs."
      ]
    }
  ]
}